{
  "nbformat": 4,
  "nbformat_minor": 0,
  "metadata": {
    "colab": {
      "provenance": [],
      "toc_visible": true,
      "authorship_tag": "ABX9TyPcvJVHWtgh7TVAbUCOjWYy",
      "include_colab_link": true
    },
    "kernelspec": {
      "name": "python3",
      "display_name": "Python 3"
    },
    "language_info": {
      "name": "python"
    }
  },
  "cells": [
    {
      "cell_type": "markdown",
      "metadata": {
        "id": "view-in-github",
        "colab_type": "text"
      },
      "source": [
        "<a href=\"https://colab.research.google.com/github/ranjanshriv/DataScience_Mentorship/blob/main/FirstAssignment.ipynb\" target=\"_parent\"><img src=\"https://colab.research.google.com/assets/colab-badge.svg\" alt=\"Open In Colab\"/></a>"
      ]
    },
    {
      "cell_type": "markdown",
      "source": [
        "##Solution of Problem 1"
      ],
      "metadata": {
        "id": "dceaCq8pd8zW"
      }
    },
    {
      "cell_type": "code",
      "source": [
        "\n",
        "\n",
        "wins = 4\n",
        "losses = 3\n",
        "draws = 1\n",
        "\n",
        "aravali_points = (wins*3)+(losses*0)+(draws*1)\n",
        "print(\"aravali_points \",aravali_points)"
      ],
      "metadata": {
        "id": "ieF3ZmUWRfKl"
      },
      "execution_count": 5,
      "outputs": []
    },
    {
      "cell_type": "markdown",
      "source": [
        "#Solution of Problem 2"
      ],
      "metadata": {
        "id": "RGoCtl78eGp6"
      }
    },
    {
      "cell_type": "code",
      "execution_count": 17,
      "metadata": {
        "colab": {
          "base_uri": "https://localhost:8080/"
        },
        "id": "iiuuRrqjPqmV",
        "outputId": "7aefab81-b69a-40cb-abdd-1ed49165efb2"
      },
      "outputs": [
        {
          "output_type": "stream",
          "name": "stdout",
          "text": [
            "Enter value2\n",
            "Result of Ist Value = 6\n",
            "Enter 2nd value-1\n",
            "Result of 2nd Value = -6\n",
            "\n",
            "\n",
            "Enter 3rd value1\n",
            "Result of 2nd Value = 0\n"
          ]
        }
      ],
      "source": [
        "##Problem 2\n",
        "\n",
        "import math\n",
        "\n",
        "def GetFxValue(inpt):\n",
        "    return int(math.pow(inpt,2))+3*inpt-4\n",
        "\n",
        "\n",
        "inputValue = int(input(\"Enter Ist value = \"))\n",
        "\n",
        "print(\"Result of Ist Value =\",GetFxValue(inputValue))\n",
        "print(\"\\n\")\n",
        "inputValue = int(input(\"Enter 2nd value = \"))\n",
        "\n",
        "print(\"Result of 2nd Value =\",GetFxValue(inputValue))\n",
        "print(\"\\n\")\n",
        "inputValue = int(input(\"Enter 3rd value = \"))\n",
        "\n",
        "print(\"Result of 2nd Value =\",GetFxValue(inputValue))\n",
        "\n",
        "\n"
      ]
    },
    {
      "cell_type": "markdown",
      "source": [
        "##Solution of Problem 3\n",
        "\n"
      ],
      "metadata": {
        "id": "J7XYIvbjdx-7"
      }
    },
    {
      "cell_type": "code",
      "source": [
        "import math\n",
        "\n",
        "first_Value = int(input(\"Enter Ist Value =\"))\n",
        "second_value = int(input(\"Enter 2nd Value =\"))\n",
        "third_Value = int(input(\"Enter 3rd Value =\"))\n",
        "\n",
        "sqrt_firstValue = math.sqrt(first_Value)\n",
        "sqrt_secondValue = math.sqrt(first_Value)\n",
        "sqrt_thirdValue = math.sqrt(first_Value)\n",
        "print(\"\\n\")\n",
        "print(\"func_evaluated_at_2 =\",bool(1 if sqrt_firstValue == 2 else 0))\n",
        "print(\"\\n\")\n",
        "print(\"func_evaluated_at_1 =\",bool(1 if sqrt_firstValue == -1 else 0))\n",
        "print(\"\\n\")\n",
        "print(\"func_evaluated_at_1 =\",bool(1 if sqrt_firstValue == 1 else 0))\n",
        "\n"
      ],
      "metadata": {
        "colab": {
          "base_uri": "https://localhost:8080/"
        },
        "id": "VLrb_C1NZ6NK",
        "outputId": "0b799828-6ebf-4594-dba3-4445496c99c5"
      },
      "execution_count": 21,
      "outputs": [
        {
          "output_type": "stream",
          "name": "stdout",
          "text": [
            "Enter Ist Value =3\n",
            "Enter 2nd Value =2\n",
            "Enter 3rd Value =-1\n",
            "func_evaluated_at_2 = False\n",
            "\n",
            "\n",
            "func_evaluated_at_1 = False\n",
            "\n",
            "\n",
            "func_evaluated_at_1 = False\n"
          ]
        }
      ]
    },
    {
      "cell_type": "markdown",
      "source": [
        "##Solution of Problem 4"
      ],
      "metadata": {
        "id": "kpet_BDCee1W"
      }
    },
    {
      "cell_type": "code",
      "source": [
        "apple = 45\n",
        "oranges = 65\n",
        "banana = 30\n",
        "\n",
        "total_Items = apple+oranges+banana\n",
        "\n",
        "def getPercentage(inputValue):\n",
        "  return (inputValue/total_Items)*100\n",
        "\n",
        "print(\"%age of apple =\",\"{:.2f}\".format(float(getPercentage(apple))))\n",
        "print(\"%age of oranges =\",\"{:.2f}\".format(getPercentage(oranges)))\n",
        "print(\"%age of banana =\",\"{:.2f}\".format(getPercentage(banana)))\n"
      ],
      "metadata": {
        "colab": {
          "base_uri": "https://localhost:8080/"
        },
        "id": "oXPygHK9RoQd",
        "outputId": "e9d1ed8f-aad5-455d-b728-6da8a235cb83"
      },
      "execution_count": 9,
      "outputs": [
        {
          "output_type": "stream",
          "name": "stdout",
          "text": [
            "%age of apple = 32.14\n",
            "%age of oranges = 46.43\n",
            "%age of banana = 21.43\n"
          ]
        }
      ]
    },
    {
      "cell_type": "markdown",
      "source": [
        "##Solution of Problem 5"
      ],
      "metadata": {
        "id": "0nk0CCBpenY8"
      }
    },
    {
      "cell_type": "code",
      "source": [
        "math_major = 30\n",
        "eco_major = 45\n",
        "phy_major = 25\n",
        "\n",
        "math_guessed = 20\n",
        "eco_guessed = 30\n",
        "phy_guessed = 20\n",
        "\n",
        "math_accuracy = float((20/30)*100)\n",
        "eco_accuracy = float((30/45)*100)\n",
        "phy_accuracy = float((20/25)*100)\n",
        "\n",
        "total_accuracy = float(((math_accuracy+eco_accuracy+phy_accuracy)/3))\n",
        "\n",
        "print(\"# Print the Maths accuracy =\",\"{:.2f}\".format(math_accuracy))\n",
        "print(\"# Print the eco accuracy =\",\"{:.2f}\".format(eco_accuracy))\n",
        "print(\"# Print the phy accuracy =\",\"{:.2f}\".format(phy_accuracy))\n",
        "\n",
        "print(\"# Print the overall accuracy =\",\"{:.2f}\".format(total_accuracy))"
      ],
      "metadata": {
        "colab": {
          "base_uri": "https://localhost:8080/"
        },
        "id": "ZWE1CP75VZG3",
        "outputId": "aecaa28c-008b-494e-81ba-cd0a626be39d"
      },
      "execution_count": 16,
      "outputs": [
        {
          "output_type": "stream",
          "name": "stdout",
          "text": [
            "# Print the Maths accuracy = 66.67\n",
            "# Print the eco accuracy = 66.67\n",
            "# Print the phy accuracy = 80.00\n",
            "# Print the overall accuracy = 71.11\n"
          ]
        }
      ]
    }
  ]
}